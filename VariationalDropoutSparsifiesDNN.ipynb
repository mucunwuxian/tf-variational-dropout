{
 "cells": [
  {
   "cell_type": "code",
   "execution_count": null,
   "metadata": {},
   "outputs": [],
   "source": [
    "import os\n",
    "os.environ[\"CUDA_DEVICE_ORDER\"]    = \"PCI_BUS_ID\"\n",
    "os.environ[\"CUDA_VISIBLE_DEVICES\"] = \"1\"\n"
   ]
  },
  {
   "cell_type": "code",
   "execution_count": null,
   "metadata": {},
   "outputs": [],
   "source": [
    "from tensorflow.python.client import device_lib\n",
    "\n",
    "def get_available_devices():\n",
    "    local_device_protos = device_lib.list_local_devices()\n",
    "    return [x.name for x in local_device_protos]\n",
    "\n",
    "print(get_available_devices())\n"
   ]
  },
  {
   "cell_type": "code",
   "execution_count": 1,
   "metadata": {},
   "outputs": [],
   "source": [
    "#!/usr/bin/python\n",
    "# simple mnist experiment\n",
    "\n",
    "import tensorflow as tf\n",
    "from tensorflow.examples.tutorials.mnist import input_data\n",
    "\n",
    "# import variational_dropout as vd\n"
   ]
  },
  {
   "cell_type": "code",
   "execution_count": 2,
   "metadata": {},
   "outputs": [],
   "source": [
    "def fully_connected(x, \n",
    "                    phase, \n",
    "                    n_hidden, \n",
    "                    activation_fn=tf.nn.relu, \n",
    "                    thresh=3,\n",
    "                    initializer=tf.contrib.layers.xavier_initializer, \n",
    "                    scope=None):\n",
    "\n",
    "    # you get xavier initialization, and that's it for now\n",
    "    n_input     = int(x.shape[1])\n",
    "    print('n_input = %s' % n_input)\n",
    "    w           = tf.get_variable(name=\"w\", \n",
    "                                  shape=[n_input, n_hidden], \n",
    "                                  initializer=initializer())\n",
    "    b           = tf.get_variable(name=\"b\", \n",
    "                                  shape=[n_hidden,], \n",
    "                                  initializer=tf.constant_initializer(0.))\n",
    "\n",
    "    ard_init    = -10.\n",
    "    log_sigma2  = tf.get_variable(name=\"log_sigma2\", \n",
    "                                  shape=[n_input, n_hidden], \n",
    "                                  initializer=tf.constant_initializer(ard_init))\n",
    "    \n",
    "    eps         = 1e-8\n",
    "    log_alpha   = tf.clip_by_value(t=(log_sigma2 - tf.log(tf.square(w) + eps)),\n",
    "                                   clip_value_min=-8., \n",
    "                                   clip_value_max=8., \n",
    "                                   name='log_alpha')\n",
    "    # log_alpha   = tf.identity(log_alpha, name='log_alpha') # <- not need...\n",
    "\n",
    "    # at test time,we just mask\n",
    "    select_mask = tf.cast(x=tf.less(x=log_alpha, y=thresh), \n",
    "                          dtype=tf.float32)\n",
    "    fc_masked   = tf.matmul(a=x, b=(w * select_mask))\n",
    "\n",
    "    # choose between adding noise, or applying mask, depending on phase\n",
    "    mu          = tf.matmul(a=x, b=w)\n",
    "    si          = tf.sqrt(x=tf.matmul(a=tf.square(x), b=(tf.exp(log_alpha) * tf.square(w))) + eps)\n",
    "    fc_noisy    = mu + (si * tf.random_normal(shape=tf.shape(mu), \n",
    "                                              mean=0.0,\n",
    "                                              stddev=1.0))\n",
    "\n",
    "    activations = tf.cond(pred=phase, true_fn=(lambda:fc_noisy), false_fn=(lambda:fc_masked))\n",
    "    \n",
    "    return activation_fn(activations + b)\n"
   ]
  },
  {
   "cell_type": "code",
   "execution_count": 3,
   "metadata": {},
   "outputs": [],
   "source": [
    "# def conv2d(x, \n",
    "#            phase, \n",
    "#            n_filters, \n",
    "#            kernel_size, \n",
    "#            activation_fn=tf.nn.relu,\n",
    "#            strides=[1,1,1,1],\n",
    "#            initializer=tf.contrib.layers.xavier_initializer_conv2d, \n",
    "#            thresh=3,\n",
    "#            padding='SAME', \n",
    "#            scope=None, \n",
    "#            bias=False):\n",
    "    \n",
    "#     n_input_channels = int(x.shape[3])\n",
    "#     # define parameters\n",
    "#     conv_param_shape = kernel_size + [n_input_channels, n_filters]\n",
    "#     w                = tf.get_variable(\"w\", conv_param_shape, initializer=initializer())\n",
    "    \n",
    "#     if (bias):\n",
    "#         b = tf.get_variable(\"b\", [n_filters], initializer=tf.constant_initializer())\n",
    "\n",
    "#     # homemade initializers\n",
    "#     ard_init      = -10.\n",
    "#     log_sigma2    = tf.get_variable(\"log_sigma2\", shape=conv_param_shape, initializer=tf.constant_initializer(ard_init))\n",
    "    \n",
    "#     eps           = 1e-8\n",
    "#     log_alpha     = tf.clip_by_value((log_sigma2 - tf.log(tf.square(w) + eps)), -8., 8.)\n",
    "#     log_alpha     = tf.identity(log_alpha, name='log_alpha')\n",
    "\n",
    "#     select_mask   = tf.cast(tf.less(log_alpha, thresh), tf.float32)\n",
    "\n",
    "#     conved_mu     = tf.nn.conv2d(x, w, strides=strides, padding=padding)\n",
    "#     conved_si     = tf.sqrt(tf.nn.conv2d(tf.square(x),\n",
    "#                                          tf.exp(log_alpha)*tf.square(w),\n",
    "#                                          strides=strides, \n",
    "#                                          padding=padding)+1e-8)\n",
    "#     conv2d_noisy  = conved_mu + tf.random_normal(tf.shape(conved_mu))*conved_si\n",
    "    \n",
    "#     conv2d_masked = tf.nn.conv2d(x, w*select_mask, strides=strides, padding=padding)\n",
    "    \n",
    "#     activations   = tf.cond(phase, lambda: conv2d_noisy, lambda: conv2d_masked)\n",
    "#     if bias:\n",
    "#         return activation_fn(activations + b)\n",
    "#     else:\n",
    "#         return activation_fn(activations)\n"
   ]
  },
  {
   "cell_type": "code",
   "execution_count": 4,
   "metadata": {},
   "outputs": [],
   "source": [
    "def deepnn(x, phase):\n",
    "    \"\"\"\n",
    "    Builds the network graph.\n",
    "\n",
    "    Args:\n",
    "        x: an input tensor with the dimensions (N_examples, 784), where 784 is the\n",
    "        number of pixels in a standard MNIST image.\n",
    "        x: True is train, False is test\n",
    "\n",
    "    Returns:\n",
    "        A tuple (y, log_alphas). y is a tensor of shape (N_examples, 10), with values\n",
    "        equal to the logits of classifying the digit into one of 10 classes (the\n",
    "        digits 0-9). log_alphas is a list of the log_alpha parameters describing\n",
    "        the effective dropout rate of the approximate posterior.\n",
    "    \"\"\"\n",
    "    \n",
    "#     # Reshape to use within a convolutional neural net.\n",
    "#     # Last dimension is for \"features\" - there is only one here, since images are\n",
    "#     # grayscale -- it would be 3 for an RGB image, 4 for RGBA, etc.\n",
    "#     with tf.variable_scope('reshape', reuse=tf.AUTO_REUSE):\n",
    "#         x_image      = tf.reshape(x, [-1, 28, 28, 1])\n",
    "\n",
    "#     # First convolutional layer - maps one grayscale image to 32 feature maps.\n",
    "#     with tf.variable_scope('conv1', reuse=tf.AUTO_REUSE):\n",
    "#         h_conv1      = conv2d(x_image, phase, 32, [5,5])\n",
    "    \n",
    "#     # Pooling layer - downsamples by 2X.\n",
    "#     with tf.variable_scope('pool1', reuse=tf.AUTO_REUSE):\n",
    "#         # max_pool_2x2 downsamples a feature map by 2X.\n",
    "#         h_pool1      = tf.nn.max_pool(h_conv1, ksize=[1, 2, 2, 1], strides=[1, 2, 2, 1], padding='SAME')\n",
    "\n",
    "#     # Second convolutional layer -- maps 32 feature maps to 64.\n",
    "#     with tf.variable_scope('conv2', reuse=tf.AUTO_REUSE):\n",
    "#         h_conv2      = conv2d(h_pool1, phase, 64, [5,5])\n",
    "\n",
    "#     # Second pooling layer.\n",
    "#     with tf.variable_scope('pool2', reuse=tf.AUTO_REUSE):\n",
    "#         # max_pool_2x2 downsamples a feature map by 2X.\n",
    "#         h_pool2      = tf.nn.max_pool(h_conv2, ksize=[1, 2, 2, 1], strides=[1, 2, 2, 1], padding='SAME')\n",
    "\n",
    "#     # Fully connected layer 1 -- after 2 round of downsampling, our 28x28 image\n",
    "#     # is down to 7x7x64 feature maps -- maps this to 1024 features.\n",
    "#     with tf.variable_scope('fc1', reuse=tf.AUTO_REUSE):\n",
    "#         h_pool2_flat = tf.reshape(h_pool2, [-1, 7*7*64])\n",
    "#         h_fc1        = fully_connected(h_pool2_flat, phase, 1024)\n",
    "\n",
    "    # \n",
    "    with tf.variable_scope('fc1', reuse=tf.AUTO_REUSE):\n",
    "        h_fc1        = fully_connected(x=x, phase=phase, n_hidden=20)\n",
    "\n",
    "    # Map the 1024 features to 10 classes, one for each digit\n",
    "    with tf.variable_scope('fc2', reuse=tf.AUTO_REUSE):\n",
    "        y_conv       = fully_connected(h_fc1, phase, 10) \n",
    "    \n",
    "    return y_conv\n"
   ]
  },
  {
   "cell_type": "code",
   "execution_count": 5,
   "metadata": {},
   "outputs": [],
   "source": [
    "# Define placeholders\n",
    "x     = tf.placeholder(tf.float32, [None, 784])\n",
    "y_    = tf.placeholder(tf.float32, [None, 10])\n",
    "phase = tf.placeholder(tf.bool, None)\n"
   ]
  },
  {
   "cell_type": "code",
   "execution_count": 6,
   "metadata": {},
   "outputs": [
    {
     "name": "stdout",
     "output_type": "stream",
     "text": [
      "n_input = 784\n",
      "n_input = 20\n"
     ]
    }
   ],
   "source": [
    "# Build the graph for the deep net\n",
    "y_conv = deepnn(x, phase)\n"
   ]
  },
  {
   "cell_type": "code",
   "execution_count": 7,
   "metadata": {},
   "outputs": [
    {
     "name": "stdout",
     "output_type": "stream",
     "text": [
      "WARNING:tensorflow:From <ipython-input-7-c02f4aebd60c>:2: read_data_sets (from tensorflow.contrib.learn.python.learn.datasets.mnist) is deprecated and will be removed in a future version.\n",
      "Instructions for updating:\n",
      "Please use alternatives such as official/mnist/dataset.py from tensorflow/models.\n",
      "WARNING:tensorflow:From /anaconda3/envs/develop_36/lib/python3.6/site-packages/tensorflow/contrib/learn/python/learn/datasets/mnist.py:260: maybe_download (from tensorflow.contrib.learn.python.learn.datasets.base) is deprecated and will be removed in a future version.\n",
      "Instructions for updating:\n",
      "Please write your own downloading logic.\n",
      "WARNING:tensorflow:From /anaconda3/envs/develop_36/lib/python3.6/site-packages/tensorflow/contrib/learn/python/learn/datasets/mnist.py:262: extract_images (from tensorflow.contrib.learn.python.learn.datasets.mnist) is deprecated and will be removed in a future version.\n",
      "Instructions for updating:\n",
      "Please use tf.data to implement this functionality.\n",
      "Extracting /tmp/tensorflow/mnist/input_data/train-images-idx3-ubyte.gz\n",
      "WARNING:tensorflow:From /anaconda3/envs/develop_36/lib/python3.6/site-packages/tensorflow/contrib/learn/python/learn/datasets/mnist.py:267: extract_labels (from tensorflow.contrib.learn.python.learn.datasets.mnist) is deprecated and will be removed in a future version.\n",
      "Instructions for updating:\n",
      "Please use tf.data to implement this functionality.\n",
      "Extracting /tmp/tensorflow/mnist/input_data/train-labels-idx1-ubyte.gz\n",
      "WARNING:tensorflow:From /anaconda3/envs/develop_36/lib/python3.6/site-packages/tensorflow/contrib/learn/python/learn/datasets/mnist.py:110: dense_to_one_hot (from tensorflow.contrib.learn.python.learn.datasets.mnist) is deprecated and will be removed in a future version.\n",
      "Instructions for updating:\n",
      "Please use tf.one_hot on tensors.\n",
      "Extracting /tmp/tensorflow/mnist/input_data/t10k-images-idx3-ubyte.gz\n",
      "Extracting /tmp/tensorflow/mnist/input_data/t10k-labels-idx1-ubyte.gz\n",
      "WARNING:tensorflow:From /anaconda3/envs/develop_36/lib/python3.6/site-packages/tensorflow/contrib/learn/python/learn/datasets/mnist.py:290: DataSet.__init__ (from tensorflow.contrib.learn.python.learn.datasets.mnist) is deprecated and will be removed in a future version.\n",
      "Instructions for updating:\n",
      "Please use alternatives such as official/mnist/dataset.py from tensorflow/models.\n"
     ]
    }
   ],
   "source": [
    "# Import data\n",
    "mnist = input_data.read_data_sets('/tmp/tensorflow/mnist/input_data', one_hot=True)\n"
   ]
  },
  {
   "cell_type": "code",
   "execution_count": 8,
   "metadata": {},
   "outputs": [
    {
     "name": "stdout",
     "output_type": "stream",
     "text": [
      "WARNING:tensorflow:From <ipython-input-8-8e029b6a0d6c>:14: softmax_cross_entropy_with_logits (from tensorflow.python.ops.nn_ops) is deprecated and will be removed in a future version.\n",
      "Instructions for updating:\n",
      "\n",
      "Future major versions of TensorFlow will allow gradients to flow\n",
      "into the labels input on backprop by default.\n",
      "\n",
      "See @{tf.nn.softmax_cross_entropy_with_logits_v2}.\n",
      "\n",
      "aaa\n",
      "aaa\n",
      "aaa\n",
      "aaa\n",
      "aaa\n",
      "aaa\n",
      "aaa\n",
      "aaa\n"
     ]
    }
   ],
   "source": [
    "# with tf.name_scope('loss'):\n",
    "#     # cross entropy part of the ELBO\n",
    "#     cross_entropy = tf.reduce_mean(tf.nn.softmax_cross_entropy_with_logits(labels=y_,\n",
    "#                                                         logits=y_conv))\n",
    "#     # prior DKL part of the ELBO\n",
    "#     log_alphas = gather_logalphas(tf.get_default_graph())\n",
    "#     divergences = [dkl_qp(la) for la in log_alphas]\n",
    "#     # combine to form the ELBO\n",
    "#     N = float(mnist.train.images.shape[0])\n",
    "#     dkl = tf.reduce_sum(tf.stack(divergences))\n",
    "#     elbo = cross_entropy+(1./N)*dkl\n",
    "\n",
    "# cross entropy part of the ELBO\n",
    "cross_entropy = tf.reduce_mean(tf.nn.softmax_cross_entropy_with_logits(labels=y_, logits=y_conv))\n",
    "\n",
    "# prior DKL part of the ELBO\n",
    "# utility to gather variational dropout parameters\n",
    "node_defs     = [n for n in tf.get_default_graph().as_graph_def().node if 'log_alpha' in n.name]\n",
    "tensors       = [tf.get_default_graph().get_tensor_by_name(n.name+\":0\") for n in node_defs]\n",
    "log_alphas    = tensors\n",
    "\n",
    "k1, k2, k3    = 0.63576, 1.8732, 1.48695\n",
    "C             = -k1\n",
    "\n",
    "divergences   = []\n",
    "for la in log_alphas:\n",
    "    print('aaa')\n",
    "    mdkl      = k1 * tf.nn.sigmoid(k2 + k3 * la) - 0.5 * tf.log1p(tf.exp(-la)) + C\n",
    "    dkl_qp    = -tf.reduce_sum(mdkl)\n",
    "\n",
    "    divergences.append(dkl_qp)\n",
    "\n",
    "# combine to form the ELBO\n",
    "N             = float(mnist.train.images.shape[0])\n",
    "dkl           = tf.reduce_sum(tf.stack(divergences))\n",
    "elbo          = cross_entropy + (1. / N) * dkl\n"
   ]
  },
  {
   "cell_type": "code",
   "execution_count": 9,
   "metadata": {},
   "outputs": [],
   "source": [
    "train_step = tf.train.AdamOptimizer(1e-3).minimize(elbo)\n"
   ]
  },
  {
   "cell_type": "code",
   "execution_count": 10,
   "metadata": {},
   "outputs": [],
   "source": [
    "correct_prediction = tf.equal(tf.argmax(y_conv, 1), tf.argmax(y_, 1))\n",
    "correct_prediction = tf.cast(correct_prediction, tf.float32)\n",
    "accuracy           = tf.reduce_mean(correct_prediction)\n"
   ]
  },
  {
   "cell_type": "code",
   "execution_count": 11,
   "metadata": {},
   "outputs": [],
   "source": [
    "# handy function to keep track of sparsity\n",
    "thresh   = 3\n",
    "N_active = 0.\n",
    "N_total  = 0.\n",
    "for la in log_alphas:\n",
    "    m         = tf.cast(tf.less(la, thresh), tf.float32)\n",
    "    n_active  = tf.reduce_sum(m)\n",
    "    n_total   = tf.cast(tf.reduce_prod(tf.shape(m)), tf.float32)\n",
    "    N_active += n_active\n",
    "    N_total  += n_total\n",
    "sparse = 1.0 - N_active / N_total\n"
   ]
  },
  {
   "cell_type": "code",
   "execution_count": 47,
   "metadata": {},
   "outputs": [
    {
     "name": "stdout",
     "output_type": "stream",
     "text": [
      "step 0, training accuracy 0.12, training loss: 3.56891\n",
      "step 0, val accuracy 0.14, val loss: 2.33661, sparsity: 0.0166855\n",
      "step 1000, training accuracy 0.74, training loss: 0.975878\n",
      "step 1000, val accuracy 0.78, val loss: 0.594826, sparsity: 0.667674\n",
      "step 2000, training accuracy 0.98, training loss: 0.448132\n",
      "step 2000, val accuracy 0.98, val loss: 0.219397, sparsity: 0.672648\n",
      "step 3000, training accuracy 0.96, training loss: 0.398901\n",
      "step 3000, val accuracy 0.96, val loss: 0.147494, sparsity: 0.682408\n",
      "step 4000, training accuracy 0.86, training loss: 0.641695\n",
      "step 4000, val accuracy 0.96, val loss: 0.315624, sparsity: 0.680645\n"
     ]
    }
   ],
   "source": [
    "sess = tf.Session()\n",
    "sess.run(tf.global_variables_initializer())\n",
    "for i in range(5001):\n",
    "    batch = mnist.train.next_batch(50)\n",
    "    if i % 1000 == 0:\n",
    "        train_accuracy, train_loss = sess.run((accuracy, elbo), feed_dict={x: batch[0], y_: batch[1], phase: False})\n",
    "        print('step %d, training accuracy %g, training loss: %g' % (i, train_accuracy, train_loss))\n",
    "        val_x, val_y = mnist.validation.next_batch(50)\n",
    "        val_accuracy, val_loss, val_sp = sess.run((accuracy, cross_entropy, sparse), feed_dict={x: val_x, y_: val_y, phase: False})\n",
    "        print('step %d, val accuracy %g, val loss: %g, sparsity: %g' % (i, val_accuracy, val_loss, val_sp))\n",
    "    train_step.run(session=sess, feed_dict={x: batch[0], y_: batch[1], phase: True})\n"
   ]
  },
  {
   "cell_type": "code",
   "execution_count": 46,
   "metadata": {
    "scrolled": false
   },
   "outputs": [
    {
     "data": {
      "image/png": "[encoded data removed]",
      "text/plain": [
       "<Figure size 1200x1500 with 2 Axes>"
      ]
     },
     "metadata": {
      "needs_background": "light"
     },
     "output_type": "display_data"
    },
    {
     "name": "stdout",
     "output_type": "stream",
     "text": [
      "sum = -3423.1675\n"
     ]
    },
    {
     "data": {
      "image/png": "[encoded data removed]",
      "text/plain": [
       "<Figure size 432x288 with 2 Axes>"
      ]
     },
     "metadata": {
      "needs_background": "light"
     },
     "output_type": "display_data"
    },
    {
     "name": "stdout",
     "output_type": "stream",
     "text": [
      "sum = -3423.1675\n"
     ]
    },
    {
     "data": {
      "image/png": "[encoded data removed]",
      "text/plain": [
       "<Figure size 432x288 with 2 Axes>"
      ]
     },
     "metadata": {
      "needs_background": "light"
     },
     "output_type": "display_data"
    },
    {
     "name": "stdout",
     "output_type": "stream",
     "text": [
      "sum = -622.78577\n"
     ]
    },
    {
     "data": {
      "image/png": "[encoded data removed]",
      "text/plain": [
       "<Figure size 432x288 with 2 Axes>"
      ]
     },
     "metadata": {
      "needs_background": "light"
     },
     "output_type": "display_data"
    },
    {
     "name": "stdout",
     "output_type": "stream",
     "text": [
      "sum = -622.46924\n"
     ]
    }
   ],
   "source": [
    "import matplotlib\n",
    "%matplotlib inline\n",
    "\n",
    "import numpy as np\n",
    "import matplotlib.pyplot as plt\n",
    "\n",
    "fig = plt.figure(figsize=(12,15),dpi=100)\n",
    "\n",
    "for i in [1, 3, 5, 7]:\n",
    "    la_tmp = sess.run(log_alphas[i])\n",
    "    fig.add_subplot(4, 2, (i + 1))\n",
    "    plt.grid(which='major',color=[0.7, 0.7, 0.7],linestyle='-')\n",
    "    plt.imshow(tmp, aspect='auto')\n",
    "    plt.colorbar()\n",
    "    plt.show()\n",
    "    print('sum = %s' % np.sum(k1 * (1 / (1 + np.exp(-(k2 + k3 * la_tmp)))) - (0.5 * np.log(1 + np.exp(-la_tmp))) + C))\n"
   ]
  },
  {
   "cell_type": "code",
   "execution_count": 42,
   "metadata": {},
   "outputs": [
    {
     "data": {
      "text/plain": [
       "array([[-0.58975375, -0.58975375, -0.58975375, ..., -0.58975375,\n",
       "        -0.58975375, -0.58975375],\n",
       "       [-0.58975375, -0.58975375, -0.58975375, ..., -0.58975375,\n",
       "        -0.58975375, -0.58975375],\n",
       "       [-0.58975375, -0.58975375, -0.58975375, ..., -0.58975375,\n",
       "        -0.58975375, -0.58975375],\n",
       "       ...,\n",
       "       [-0.58975375, -0.58975375, -0.58975375, ..., -0.58975375,\n",
       "        -0.58975375, -0.58975375],\n",
       "       [-0.58975375, -0.58975375, -0.58975375, ..., -0.58975375,\n",
       "        -0.58975375, -0.58975375],\n",
       "       [-0.58975375, -0.58975375, -0.58975375, ..., -0.58975375,\n",
       "        -0.58975375, -0.58975375]], dtype=float32)"
      ]
     },
     "execution_count": 42,
     "metadata": {},
     "output_type": "execute_result"
    }
   ],
   "source": [
    "k1 * (1 / (k2 + k3 * la_tmp)) - (0.5 * np.log(1 + np.exp(-la_tmp))) + C"
   ]
  },
  {
   "cell_type": "code",
   "execution_count": 40,
   "metadata": {},
   "outputs": [
    {
     "data": {
      "text/plain": [
       "(784, 20)"
      ]
     },
     "execution_count": 40,
     "metadata": {},
     "output_type": "execute_result"
    }
   ],
   "source": [
    "np.shape(0.5 * np.log(1 + np.exp(-la_tmp)))"
   ]
  },
  {
   "cell_type": "code",
   "execution_count": 24,
   "metadata": {},
   "outputs": [
    {
     "data": {
      "text/plain": [
       "622.4693"
      ]
     },
     "execution_count": 24,
     "metadata": {},
     "output_type": "execute_result"
    }
   ],
   "source": [
    "sess.run(divergences[7])"
   ]
  },
  {
   "cell_type": "code",
   "execution_count": 26,
   "metadata": {},
   "outputs": [
    {
     "data": {
      "text/plain": [
       "8100.9175"
      ]
     },
     "execution_count": 26,
     "metadata": {},
     "output_type": "execute_result"
    }
   ],
   "source": [
    "sess.run(dkl)"
   ]
  },
  {
   "cell_type": "code",
   "execution_count": null,
   "metadata": {},
   "outputs": [],
   "source": [
    "print('test accuracy %g' % accuracy.eval(session=sess, feed_dict={x: mnist.test.images, y_: mnist.test.labels, phase: False}))\n"
   ]
  },
  {
   "cell_type": "code",
   "execution_count": null,
   "metadata": {},
   "outputs": [],
   "source": [
    "threshold_sparse = 0.1\n",
    "\n",
    "w_1_tmp = sess.run(tf.trainable_variables('fc1/w:0'))[0].ravel()\n",
    "w_2_tmp = sess.run(tf.trainable_variables('fc2/w:0'))[0].ravel()\n",
    "\n",
    "import numpy             as np\n",
    "import matplotlib.pyplot as plt \n",
    "\n",
    "fig = plt.figure(figsize=(12,8),dpi=100)\n",
    "\n",
    "ax  = plt.subplot(2, 2, 1)\n",
    "plt.hist(w_1_tmp, bins=50, log=True)\n",
    "\n",
    "ax  = plt.subplot(2, 2, 2)\n",
    "plt.hist(w_2_tmp, bins=50, log=True)\n",
    "\n",
    "ax  = plt.subplot(2, 2, 3)\n",
    "plt.plot(np.sort(w_1_tmp))\n",
    "\n",
    "ax  = plt.subplot(2, 2, 4)\n",
    "plt.plot(np.sort(w_2_tmp))\n",
    "\n",
    "plt.show()\n",
    "\n",
    "print(np.sum(np.abs(w_1_tmp) <= threshold_sparse) / len(w_1_tmp))\n",
    "print(np.sum(np.abs(w_2_tmp) <= threshold_sparse) / len(w_2_tmp))\n"
   ]
  },
  {
   "cell_type": "code",
   "execution_count": null,
   "metadata": {},
   "outputs": [],
   "source": [
    "w_1 = sess.run(tf.trainable_variables('fc1/w:0'))[0]\n",
    "w_1[np.abs(w_1) < threshold_sparse] = 0\n",
    "w_2 = sess.run(tf.trainable_variables('fc2/w:0'))[0]\n",
    "w_2[np.abs(w_2) < threshold_sparse] = 0\n"
   ]
  },
  {
   "cell_type": "code",
   "execution_count": null,
   "metadata": {},
   "outputs": [],
   "source": [
    "tmp = tf.trainable_variables('fc1/w:0')\n",
    "tmp[0].load(w_1, sess)\n",
    "tmp = tf.trainable_variables('fc2/w:0')\n",
    "tmp[0].load(w_2, sess)\n"
   ]
  },
  {
   "cell_type": "code",
   "execution_count": null,
   "metadata": {},
   "outputs": [],
   "source": [
    "w_1_tmp = sess.run(tf.trainable_variables('fc1/w:0'))[0].ravel()\n",
    "w_2_tmp = sess.run(tf.trainable_variables('fc2/w:0'))[0].ravel()\n",
    "\n",
    "\n",
    "fig = plt.figure(figsize=(12,8),dpi=100)\n",
    "\n",
    "ax  = plt.subplot(2, 2, 1)\n",
    "plt.hist(w_1_tmp, bins=50, log=True)\n",
    "\n",
    "ax  = plt.subplot(2, 2, 2)\n",
    "plt.hist(w_2_tmp, bins=50, log=True)\n",
    "\n",
    "ax  = plt.subplot(2, 2, 3)\n",
    "plt.plot(np.sort(w_1_tmp))\n",
    "\n",
    "ax  = plt.subplot(2, 2, 4)\n",
    "plt.plot(np.sort(w_2_tmp))\n",
    "\n",
    "plt.show()\n",
    "\n",
    "print(np.sum(np.abs(w_1_tmp) == 0) / len(w_1_tmp))\n",
    "print(np.sum(np.abs(w_2_tmp) == 0) / len(w_2_tmp))\n"
   ]
  },
  {
   "cell_type": "code",
   "execution_count": null,
   "metadata": {},
   "outputs": [],
   "source": [
    "print('test accuracy %g' % accuracy.eval(session=sess, feed_dict={x: mnist.test.images, y_: mnist.test.labels, phase: False}))\n"
   ]
  },
  {
   "cell_type": "code",
   "execution_count": null,
   "metadata": {},
   "outputs": [],
   "source": []
  }
 ],
 "metadata": {
  "kernelspec": {
   "display_name": "Python 3",
   "language": "python",
   "name": "python3"
  },
  "language_info": {
   "codemirror_mode": {
    "name": "ipython",
    "version": 3
   },
   "file_extension": ".py",
   "mimetype": "text/x-python",
   "name": "python",
   "nbconvert_exporter": "python",
   "pygments_lexer": "ipython3",
   "version": "3.6.6"
  }
 },
 "nbformat": 4,
 "nbformat_minor": 2
}
